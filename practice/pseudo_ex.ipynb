{
 "cells": [
  {
   "cell_type": "code",
   "execution_count": null,
   "id": "4795c7e3",
   "metadata": {
    "vscode": {
     "languageId": "plaintext"
    }
   },
   "outputs": [],
   "source": [
    "# LangGraph 및 관련 라이브러리 설치\n",
    "!pip install langgraph langchain langchain-openai langchain-community"
   ]
  },
  {
   "cell_type": "code",
   "execution_count": null,
   "id": "c04a2331",
   "metadata": {},
   "outputs": [],
   "source": [
    "# 필수 라이브러리 import\n",
    "from langgraph.graph import StateGraph, END\n",
    "from langgraph.prebuilt import ToolNode\n",
    "from langchain_openai import ChatOpenAI\n",
    "from langchain_core.messages import BaseMessage, HumanMessage, AIMessage\n",
    "from typing import TypedDict, Sequence\n",
    "import os"
   ]
  },
  {
   "cell_type": "code",
   "execution_count": null,
   "id": "f476c0fc",
   "metadata": {},
   "outputs": [],
   "source": [
    "# OpenAI API 키 설정 (필요한 경우)\n",
    "# os.environ[\"OPENAI_API_KEY\"] = \"your-api-key-here\"\n",
    "\n",
    "# 기본 설정 확인\n",
    "print(\"LangGraph 라이브러리가 성공적으로 설치되었습니다!\")\n",
    "print(\"사용 가능한 주요 모듈:\")\n",
    "print(\"- StateGraph: 상태 기반 그래프 생성\")\n",
    "print(\"- ToolNode: 도구 노드 생성\") \n",
    "print(\"- ChatOpenAI: OpenAI 채팅 모델\")\n",
    "print(\"- BaseMessage, HumanMessage, AIMessage: 메시지 타입들\")"
   ]
  },
  {
   "cell_type": "code",
   "execution_count": null,
   "id": "ddb35e98",
   "metadata": {},
   "outputs": [],
   "source": [
    "# LangGraph 기본 사용 예제\n",
    "\n",
    "# 상태 정의\n",
    "class GraphState(TypedDict):\n",
    "    messages: Sequence[BaseMessage]\n",
    "\n",
    "# 간단한 노드 함수 정의\n",
    "def chatbot_node(state: GraphState):\n",
    "    \"\"\"간단한 챗봇 노드\"\"\"\n",
    "    # 마지막 메시지 가져오기\n",
    "    last_message = state[\"messages\"][-1]\n",
    "    \n",
    "    # 간단한 응답 생성 (실제로는 LLM을 사용)\n",
    "    response = f\"안녕하세요! 입력하신 메시지는: '{last_message.content}' 입니다.\"\n",
    "    \n",
    "    return {\"messages\": [AIMessage(content=response)]}\n",
    "\n",
    "# 그래프 생성\n",
    "workflow = StateGraph(GraphState)\n",
    "\n",
    "# 노드 추가\n",
    "workflow.add_node(\"chatbot\", chatbot_node)\n",
    "\n",
    "# 시작점 설정\n",
    "workflow.set_entry_point(\"chatbot\")\n",
    "\n",
    "# 종료점 설정\n",
    "workflow.add_edge(\"chatbot\", END)\n",
    "\n",
    "# 그래프 컴파일\n",
    "app = workflow.compile()\n",
    "\n",
    "print(\"LangGraph 워크플로우가 성공적으로 생성되었습니다!\")"
   ]
  },
  {
   "cell_type": "code",
   "execution_count": null,
   "id": "e4464fde",
   "metadata": {},
   "outputs": [],
   "source": [
    "# 그래프 테스트 실행\n",
    "initial_state = {\n",
    "    \"messages\": [HumanMessage(content=\"안녕하세요! LangGraph 테스트입니다.\")]\n",
    "}\n",
    "\n",
    "# 그래프 실행\n",
    "result = app.invoke(initial_state)\n",
    "\n",
    "print(\"입력 메시지:\", initial_state[\"messages\"][0].content)\n",
    "print(\"응답 메시지:\", result[\"messages\"][-1].content)"
   ]
  }
 ],
 "metadata": {
  "language_info": {
   "name": "python"
  }
 },
 "nbformat": 4,
 "nbformat_minor": 5
}
